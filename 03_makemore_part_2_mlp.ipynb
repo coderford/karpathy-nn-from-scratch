{
 "cells": [
  {
   "cell_type": "code",
   "execution_count": 8,
   "id": "acf14fc7",
   "metadata": {},
   "outputs": [],
   "source": [
    "import torch\n",
    "import torch.nn.functional as F\n",
    "import matplotlib.pyplot as plt\n",
    "%matplotlib inline"
   ]
  },
  {
   "cell_type": "code",
   "execution_count": 9,
   "id": "33af2177",
   "metadata": {},
   "outputs": [
    {
     "data": {
      "text/plain": [
       "['emma', 'olivia', 'ava', 'isabella', 'sophia', 'charlotte', 'mia', 'amelia']"
      ]
     },
     "execution_count": 9,
     "metadata": {},
     "output_type": "execute_result"
    }
   ],
   "source": [
    "words = open(\"names.txt\", \"r\").read().splitlines()\n",
    "words[:8]"
   ]
  },
  {
   "cell_type": "code",
   "execution_count": 10,
   "id": "f331d383",
   "metadata": {},
   "outputs": [
    {
     "data": {
      "text/plain": [
       "32033"
      ]
     },
     "execution_count": 10,
     "metadata": {},
     "output_type": "execute_result"
    }
   ],
   "source": [
    "len(words)"
   ]
  },
  {
   "cell_type": "code",
   "execution_count": 11,
   "id": "7007a0e9",
   "metadata": {},
   "outputs": [],
   "source": [
    "# build the vocabulary of characters and mappings to/from integers\n",
    "chars = ['.'] + sorted(list(set(''.join(words))))\n",
    "stoi = {s:i for i, s in enumerate(chars)}"
   ]
  },
  {
   "cell_type": "code",
   "execution_count": 128,
   "id": "4562057c",
   "metadata": {},
   "outputs": [],
   "source": [
    "# build the training dataset\n",
    "block_size = 4  # context length: how many chars do we take to predict the next one?\n",
    "X, Y = [], []\n",
    "\n",
    "for w in words:\n",
    "    # print(w)\n",
    "    context = [0] * block_size\n",
    "    for ch in w + '.':\n",
    "        ix = stoi[ch]\n",
    "        X.append(context)\n",
    "        Y.append(ix)\n",
    "        # print(''.join(chars[i] for i in context), '---->', chars[ix])\n",
    "        context = context[1:] + [ix]    # crop and append\n",
    "\n",
    "X = torch.tensor(X)\n",
    "Y = torch.tensor(Y)"
   ]
  },
  {
   "cell_type": "code",
   "execution_count": 13,
   "id": "19c74010",
   "metadata": {},
   "outputs": [
    {
     "data": {
      "text/plain": [
       "(torch.Size([32, 3]), torch.int64, torch.Size([32]), torch.int64)"
      ]
     },
     "execution_count": 13,
     "metadata": {},
     "output_type": "execute_result"
    }
   ],
   "source": [
    "X.shape, X.dtype, Y.shape, Y.dtype"
   ]
  },
  {
   "cell_type": "code",
   "execution_count": 14,
   "id": "11057c51",
   "metadata": {},
   "outputs": [],
   "source": [
    "C = torch.randn((27, 2))    # embedding each char as 2 elements, starting with random embeddings"
   ]
  },
  {
   "cell_type": "code",
   "execution_count": 15,
   "id": "44360630",
   "metadata": {},
   "outputs": [
    {
     "data": {
      "text/plain": [
       "torch.Size([32, 3, 2])"
      ]
     },
     "execution_count": 15,
     "metadata": {},
     "output_type": "execute_result"
    }
   ],
   "source": [
    "emb = C[X]\n",
    "emb.shape"
   ]
  },
  {
   "cell_type": "code",
   "execution_count": 16,
   "id": "f3acf67c",
   "metadata": {},
   "outputs": [],
   "source": [
    "W1 = torch.randn((100, 6))  # 100 neurons in the hidden layer, each accepting 3 input embeddings\n",
    "b1 = torch.randn(100)"
   ]
  },
  {
   "cell_type": "markdown",
   "id": "919b9912",
   "metadata": {},
   "source": [
    "#### Ways to get C[X] into the right shape\n",
    "\n",
    "We want the C[X] to be 2D matrix which can line for multiplication with W. Specifically, if N is the number of training examples, e is the embedding size, and c is the block size, we want its shape to be (N, ce). Multiplication with a W.T of shape (ce, L) will result in a matrix of shape (N, L) - where L is the number neurons in the hidden layer. This is exactly what we want - N * L activations in total."
   ]
  },
  {
   "cell_type": "code",
   "execution_count": null,
   "id": "9f461633",
   "metadata": {},
   "outputs": [
    {
     "data": {
      "text/plain": [
       "torch.Size([32, 6])"
      ]
     },
     "execution_count": 18,
     "metadata": {},
     "output_type": "execute_result"
    }
   ],
   "source": [
    "# Separate embeddings for each example, and concatenate them into a single vector\n",
    "torch.cat([emb[:, 0, :], emb[:, 1, :], emb[:, 2, :]], 1).shape"
   ]
  },
  {
   "cell_type": "code",
   "execution_count": null,
   "id": "2cb455f8",
   "metadata": {},
   "outputs": [
    {
     "data": {
      "text/plain": [
       "torch.Size([32, 6])"
      ]
     },
     "execution_count": 19,
     "metadata": {},
     "output_type": "execute_result"
    }
   ],
   "source": [
    "# We can use torch.unbind instead, which deletes a dimension and returns all the slices along that dimension as a list\n",
    "torch.cat(torch.unbind(emb, 1), 1).shape    # -> deletes the 1st dimension and returns all the slices in it, which are then concatenated"
   ]
  },
  {
   "cell_type": "code",
   "execution_count": 21,
   "id": "dc36473a",
   "metadata": {},
   "outputs": [],
   "source": [
    "# Using Tensor.view - we can simply view the (32, 3, 2) tensor as (32, 6) tensor\n",
    "assert (emb.view((32, 6)) == torch.cat(torch.unbind(emb, 1), 1)).sum() == 32 * 6\n",
    "\n",
    "# Note that viewing the (32, 3, 2) tensor as (32, 6) happens to stack the (2,) embeddings in the right way. We need to be careful about verifying that this is the case before using views."
   ]
  },
  {
   "cell_type": "markdown",
   "id": "6f15ac27",
   "metadata": {},
   "source": [
    "#### Calculating activations"
   ]
  },
  {
   "cell_type": "code",
   "execution_count": 24,
   "id": "b50edd73",
   "metadata": {},
   "outputs": [
    {
     "data": {
      "text/plain": [
       "torch.Size([32, 100])"
      ]
     },
     "execution_count": 24,
     "metadata": {},
     "output_type": "execute_result"
    }
   ],
   "source": [
    "h = torch.tanh(\n",
    "    emb.view((emb.shape[0], -1)) @ W1.T + b1         # NOTE: PyTorch is able to infer the rest of the shape (notice the -1) with enough info. Also, think through why and how the broadcasting works here\n",
    ")\n",
    "h.shape"
   ]
  },
  {
   "cell_type": "code",
   "execution_count": 25,
   "id": "a7354359",
   "metadata": {},
   "outputs": [],
   "source": [
    "# Final layer\n",
    "W2 = torch.randn((27, 100))         # 100 inputs, 27 outputs - equivalent to 27 neurons each with 100 inputs from the previous layer\n",
    "b2 = torch.randn(27)"
   ]
  },
  {
   "cell_type": "code",
   "execution_count": 26,
   "id": "f2dbdae1",
   "metadata": {},
   "outputs": [
    {
     "data": {
      "text/plain": [
       "torch.Size([32, 27])"
      ]
     },
     "execution_count": 26,
     "metadata": {},
     "output_type": "execute_result"
    }
   ],
   "source": [
    "# Calculate logits\n",
    "logits = h @ W2.T + b2\n",
    "logits.shape"
   ]
  },
  {
   "cell_type": "code",
   "execution_count": 27,
   "id": "2d37870d",
   "metadata": {},
   "outputs": [
    {
     "data": {
      "text/plain": [
       "torch.Size([32, 27])"
      ]
     },
     "execution_count": 27,
     "metadata": {},
     "output_type": "execute_result"
    }
   ],
   "source": [
    "counts = logits.exp()\n",
    "prob = counts / counts.sum(1, keepdim=True)\n",
    "prob.shape"
   ]
  },
  {
   "cell_type": "code",
   "execution_count": 29,
   "id": "86ef0d0e",
   "metadata": {},
   "outputs": [
    {
     "data": {
      "text/plain": [
       "tensor(11.6479)"
      ]
     },
     "execution_count": 29,
     "metadata": {},
     "output_type": "execute_result"
    }
   ],
   "source": [
    "# Calculate loss: negative log likelhood\n",
    "loss = -prob[torch.arange(Y.shape[0]), Y].log().mean()\n",
    "loss"
   ]
  },
  {
   "cell_type": "markdown",
   "id": "47c61fd0",
   "metadata": {},
   "source": [
    "### Putting it all together"
   ]
  },
  {
   "cell_type": "code",
   "execution_count": 150,
   "id": "5cabac69",
   "metadata": {},
   "outputs": [],
   "source": [
    "# Network definition\n",
    "embedding_size = 10\n",
    "num_chars = 27\n",
    "\n",
    "g = torch.Generator().manual_seed(42)                       # for reproducibility\n",
    "C = torch.randn((num_chars, embedding_size), generator=g)\n",
    "\n",
    "# Layer 1 - 100 neurons\n",
    "W1 = torch.randn((200, embedding_size * block_size), generator=g)\n",
    "b1 = torch.randn(200, generator=g)\n",
    "\n",
    "# Layer 2 - 27 neurons\n",
    "W2 = torch.randn((num_chars, 200), generator=g)\n",
    "b2 = torch.randn(num_chars)\n",
    "\n",
    "parameters = [C, W1, b1, W2, b2]\n",
    "for p in parameters:\n",
    "    p.requires_grad = True"
   ]
  },
  {
   "cell_type": "code",
   "execution_count": 75,
   "id": "0164d2d3",
   "metadata": {},
   "outputs": [
    {
     "data": {
      "text/plain": [
       "3481"
      ]
     },
     "execution_count": 75,
     "metadata": {},
     "output_type": "execute_result"
    }
   ],
   "source": [
    "sum(p.nelement() for p in parameters)   # number of parameters in total"
   ]
  },
  {
   "cell_type": "code",
   "execution_count": 136,
   "id": "aca0ab48",
   "metadata": {},
   "outputs": [],
   "source": [
    "# Train, val/dev, test split\n",
    "import random\n",
    "random.seed(42)\n",
    "\n",
    "ix = [x for x in range(X.shape[0])]\n",
    "random.shuffle(ix)\n",
    "\n",
    "train_n = int(X.shape[0] * 0.8)\n",
    "val_n = int(X.shape[0] * 0.1)\n",
    "test_n = X.shape[0] - (train_n + val_n)\n",
    "\n",
    "X_train = X[ix[:train_n]]\n",
    "X_val = X[ix[train_n: train_n + val_n]]\n",
    "X_test = X[ix[train_n + val_n:]]\n",
    "\n",
    "Y_train = Y[ix[:train_n]]\n",
    "Y_val = Y[ix[train_n: train_n + val_n]]\n",
    "Y_test = Y[ix[train_n + val_n:]]"
   ]
  },
  {
   "cell_type": "code",
   "execution_count": null,
   "id": "8bf7713d",
   "metadata": {},
   "outputs": [
    {
     "name": "stdout",
     "output_type": "stream",
     "text": [
      "Training loss: 2.0815\n"
     ]
    }
   ],
   "source": [
    "# Training loop\n",
    "batch_size = 256\n",
    "num_iters = 100000\n",
    "\n",
    "for iter in range(num_iters):\n",
    "    lr = 0.3 if iter < 50000 else 0.01\n",
    "\n",
    "    # Create batch\n",
    "    ix = torch.randint(0, X_train.shape[0], (batch_size, ))\n",
    "    X_batch = X_train[ix]\n",
    "    Y_batch = Y_train[ix]\n",
    "\n",
    "    # Forward pass\n",
    "    emb = C[X_batch]                                                            # (N, block_size, embedding_size)\n",
    "    h = torch.tanh(emb.view(-1, block_size * embedding_size) @ W1.T + b1)       # (N, W1.shape[0])\n",
    "    logits = h @ W2.T + b2                                                      # (N, W2.shape[0]) = (N, num_chars)\n",
    "    # counts = logits.exp()\n",
    "    # prob = counts / counts.sum(1, keepdim=True)\n",
    "    # loss -prob[torch.arange(X.shape[0]), Y].log().mean()\n",
    "    loss = F.cross_entropy(logits, Y_batch)                                     # Equivalent to calculating counts and then taking negative log likelihood, but computationally more efficient and numerically better behaved\n",
    "    # print(f'{iter=}, loss={loss.item():.4f}')\n",
    "\n",
    "    # Backward pass\n",
    "    for p in parameters:\n",
    "        p.grad = None\n",
    "\n",
    "    loss.backward()\n",
    "    for p in parameters:\n",
    "        p.data += lr * (-p.grad)\n",
    "\n",
    "\n",
    "# Do a final forward pass and display loss\n",
    "emb = C[X_train]\n",
    "h = torch.tanh(emb.view(-1, block_size * embedding_size) @ W1.T + b1)\n",
    "logits = h @ W2.T + b2\n",
    "loss = F.cross_entropy(logits, Y_train)                                         # Notice - we're passing in the logits and target indexes which are two very different things\n",
    "print(f'Training loss: {loss.item():.4f}')"
   ]
  },
  {
   "cell_type": "code",
   "execution_count": 152,
   "id": "0969536c",
   "metadata": {},
   "outputs": [
    {
     "name": "stdout",
     "output_type": "stream",
     "text": [
      "Validation loss: 2.1260\n"
     ]
    }
   ],
   "source": [
    "# Validation loss\n",
    "emb = C[X_val]\n",
    "h = torch.tanh(emb.view(-1, block_size * embedding_size) @ W1.T + b1)\n",
    "logits = h @ W2.T + b2\n",
    "loss = F.cross_entropy(logits, Y_val)\n",
    "print(f'Validation loss: {loss.item():.4f}')"
   ]
  },
  {
   "cell_type": "markdown",
   "id": "a5fffec1",
   "metadata": {},
   "source": [
    "### Learning Rate Range test\n",
    "\n",
    "Originates here: [Cyclical Learning Rates for Training Neural Networks](https://arxiv.org/pdf/1506.01186). The main idea is to start with a very small learning rate, and then increase it over a few training iterations to large values. We need to make note of the point where the loss starts diverging. That is the maximum permissible learning rate.\n"
   ]
  },
  {
   "cell_type": "code",
   "execution_count": 148,
   "id": "5c3d8445",
   "metadata": {},
   "outputs": [],
   "source": [
    "# In the video, learning rate was varied exponentially instead of linearly\n",
    "num_iters = 1000\n",
    "lre = torch.linspace(-3, 0, num_iters)\n",
    "lrs = 10**lre\n",
    "\n",
    "# Recreating the training loop\n",
    "batch_size = 512\n",
    "\n",
    "lossi = []  # Track losses\n",
    "for iter, lr in enumerate(lrs):\n",
    "    # Create batch\n",
    "    ix = torch.randint(0, X.shape[0], (batch_size, ))\n",
    "    X_batch = X[ix]\n",
    "    Y_batch = Y[ix]\n",
    "\n",
    "    # Forward pass\n",
    "    emb = C[X_batch]                                                            # (N, block_size, embedding_size)\n",
    "    h = torch.tanh(emb.view(-1, block_size * embedding_size) @ W1.T + b1)       # (N, W1.shape[0])\n",
    "    logits = h @ W2.T + b2                                                      # (N, W2.shape[0]) = (N, num_chars)\n",
    "    loss = F.cross_entropy(logits, Y_batch)\n",
    "\n",
    "    # Backward pass\n",
    "    for p in parameters:\n",
    "        p.grad = None\n",
    "\n",
    "    loss.backward()\n",
    "    for p in parameters:\n",
    "        p.data += lr * (-p.grad)\n",
    "    \n",
    "    lossi.append(loss.item())"
   ]
  },
  {
   "cell_type": "code",
   "execution_count": 149,
   "id": "6c89cceb",
   "metadata": {},
   "outputs": [
    {
     "data": {
      "text/plain": [
       "Text(0, 0.5, 'Loss')"
      ]
     },
     "execution_count": 149,
     "metadata": {},
     "output_type": "execute_result"
    },
    {
     "data": {
      "image/png": "[encoded data removed]",
      "text/plain": [
       "<Figure size 640x480 with 1 Axes>"
      ]
     },
     "metadata": {},
     "output_type": "display_data"
    }
   ],
   "source": [
    "plt.plot(lre, lossi)\n",
    "plt.xlabel('Learning Rate exponent')\n",
    "plt.ylabel('Loss')"
   ]
  },
  {
   "cell_type": "markdown",
   "id": "d4a53538",
   "metadata": {},
   "source": [
    "We see above that after a learning rate of ~0.01, the loss diverges instead of decreasing. So, 0.1 being a the highest permissible learning rate will be our choice.\n",
    "\n",
    "**NOTE:** The chosen learning rate will vary as you vary batch size. For the dataset in this notebook, the learning rate chosen this way can go as high as 10^(-0.5) if the whole dataset is used for each iteration."
   ]
  },
  {
   "cell_type": "markdown",
   "id": "cf959fa3",
   "metadata": {},
   "source": [
    "### Sampling from the trained network"
   ]
  },
  {
   "cell_type": "code",
   "execution_count": 153,
   "id": "45c7b655",
   "metadata": {},
   "outputs": [
    {
     "name": "stdout",
     "output_type": "stream",
     "text": [
      ".anusuen.\n",
      ".tis.\n",
      ".mari.\n",
      ".nedan.\n",
      ".shan.\n",
      ".silayne.\n",
      ".arem.\n",
      ".heli.\n",
      ".lenna.\n",
      ".caslee.\n",
      ".jamzi.\n",
      ".kence.\n",
      ".jordon.\n",
      ".kalla.\n",
      ".mikhlynn.\n",
      ".acvi.\n",
      ".inea.\n",
      ".zalani.\n",
      ".nare.\n",
      ".phes.\n"
     ]
    }
   ],
   "source": [
    "max_iters = 20\n",
    "num_generations = 20\n",
    "g = torch.Generator().manual_seed(42)\n",
    "\n",
    "for _ in range(num_generations):\n",
    "    generation = '.'\n",
    "    context = [0] * block_size\n",
    "    for _ in range(max_iters):\n",
    "        # Get embeddings\n",
    "        emb = C[context]        # (block_size, embedding_size)\n",
    "\n",
    "        # Forward pass\n",
    "        logits = torch.tanh(emb.view(-1, block_size * embedding_size) @ W1.T + b1) @ W2.T + b2  # (1, 27)\n",
    "        probs = F.softmax(logits, 1)\n",
    "        \n",
    "        # Sample according to probabilities and update context\n",
    "        ix = torch.multinomial(probs, 1, replacement=True, generator=g).item()\n",
    "        generation += chars[ix]\n",
    "        context = context[1:] + [ix]\n",
    "\n",
    "        if ix == 0:\n",
    "            break\n",
    "    \n",
    "    print(generation)\n"
   ]
  },
  {
   "cell_type": "code",
   "execution_count": null,
   "id": "8036d070",
   "metadata": {},
   "outputs": [],
   "source": []
  }
 ],
 "metadata": {
  "kernelspec": {
   "display_name": "Python 3",
   "language": "python",
   "name": "python3"
  },
  "language_info": {
   "codemirror_mode": {
    "name": "ipython",
    "version": 3
   },
   "file_extension": ".py",
   "mimetype": "text/x-python",
   "name": "python",
   "nbconvert_exporter": "python",
   "pygments_lexer": "ipython3",
   "version": "3.13.3"
  }
 },
 "nbformat": 4,
 "nbformat_minor": 5
}
